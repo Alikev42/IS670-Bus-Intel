{
 "cells": [
  {
   "cell_type": "markdown",
   "metadata": {},
   "source": [
    "Kevin R. Salger\n",
    "11/22/2021\n",
    "IS670 Homework 7\n",
    "\n",
    "Please download default_credit.csv from BeachBoard, try to build:\n",
    "a.\tA decision tree classifier – HW4\n",
    "b.\tA random forest classifier – HW6\n",
    "c.\tA neuron network classifier – HW7, Pg 293\n",
    "\n",
    "Requirements for Question 2:\n",
    "*\tUse 30% of the data as testing data\n",
    "*\tDisplay the accuracy score of both training and testing data\n",
    "*\tPlease try to achieve at least >80% for the Neural Network\n"
   ]
  },
  {
   "cell_type": "code",
   "execution_count": 1,
   "metadata": {},
   "outputs": [],
   "source": [
    "%matplotlib inline\n",
    "\n",
    "from pathlib import Path\n",
    "\n",
    "import pandas as pd\n",
    "import numpy as np\n",
    "from sklearn import tree # Needed for plotting decision tree with tree.plot_tree()\n",
    "from sklearn.tree import DecisionTreeClassifier, DecisionTreeRegressor\n",
    "from sklearn.ensemble import RandomForestClassifier, GradientBoostingClassifier, AdaBoostClassifier\n",
    "from sklearn.model_selection import train_test_split, cross_val_score, GridSearchCV\n",
    "import matplotlib.pylab as plt\n",
    "from sklearn.neural_network import MLPClassifier\n",
    "from sklearn.preprocessing import MinMaxScaler\n",
    "from dmba import plotDecisionTree, classificationSummary, regressionSummary\n"
   ]
  },
  {
   "cell_type": "code",
   "execution_count": 2,
   "metadata": {},
   "outputs": [
    {
     "data": {
      "text/html": [
       "<div>\n",
       "<style scoped>\n",
       "    .dataframe tbody tr th:only-of-type {\n",
       "        vertical-align: middle;\n",
       "    }\n",
       "\n",
       "    .dataframe tbody tr th {\n",
       "        vertical-align: top;\n",
       "    }\n",
       "\n",
       "    .dataframe thead th {\n",
       "        text-align: right;\n",
       "    }\n",
       "</style>\n",
       "<table border=\"1\" class=\"dataframe\">\n",
       "  <thead>\n",
       "    <tr style=\"text-align: right;\">\n",
       "      <th></th>\n",
       "      <th>X1</th>\n",
       "      <th>X2</th>\n",
       "      <th>X3</th>\n",
       "      <th>X4</th>\n",
       "      <th>X5</th>\n",
       "      <th>X6</th>\n",
       "      <th>X7</th>\n",
       "      <th>X8</th>\n",
       "      <th>X9</th>\n",
       "      <th>X10</th>\n",
       "      <th>...</th>\n",
       "      <th>X15</th>\n",
       "      <th>X16</th>\n",
       "      <th>X17</th>\n",
       "      <th>X18</th>\n",
       "      <th>X19</th>\n",
       "      <th>X20</th>\n",
       "      <th>X21</th>\n",
       "      <th>X22</th>\n",
       "      <th>X23</th>\n",
       "      <th>Y</th>\n",
       "    </tr>\n",
       "  </thead>\n",
       "  <tbody>\n",
       "    <tr>\n",
       "      <th>0</th>\n",
       "      <td>20000</td>\n",
       "      <td>2</td>\n",
       "      <td>2</td>\n",
       "      <td>1</td>\n",
       "      <td>24</td>\n",
       "      <td>2</td>\n",
       "      <td>2</td>\n",
       "      <td>-1</td>\n",
       "      <td>-1</td>\n",
       "      <td>-2</td>\n",
       "      <td>...</td>\n",
       "      <td>0</td>\n",
       "      <td>0</td>\n",
       "      <td>0</td>\n",
       "      <td>0</td>\n",
       "      <td>689</td>\n",
       "      <td>0</td>\n",
       "      <td>0</td>\n",
       "      <td>0</td>\n",
       "      <td>0</td>\n",
       "      <td>1</td>\n",
       "    </tr>\n",
       "    <tr>\n",
       "      <th>1</th>\n",
       "      <td>120000</td>\n",
       "      <td>2</td>\n",
       "      <td>2</td>\n",
       "      <td>2</td>\n",
       "      <td>26</td>\n",
       "      <td>-1</td>\n",
       "      <td>2</td>\n",
       "      <td>0</td>\n",
       "      <td>0</td>\n",
       "      <td>0</td>\n",
       "      <td>...</td>\n",
       "      <td>3272</td>\n",
       "      <td>3455</td>\n",
       "      <td>3261</td>\n",
       "      <td>0</td>\n",
       "      <td>1000</td>\n",
       "      <td>1000</td>\n",
       "      <td>1000</td>\n",
       "      <td>0</td>\n",
       "      <td>2000</td>\n",
       "      <td>1</td>\n",
       "    </tr>\n",
       "    <tr>\n",
       "      <th>2</th>\n",
       "      <td>90000</td>\n",
       "      <td>2</td>\n",
       "      <td>2</td>\n",
       "      <td>2</td>\n",
       "      <td>34</td>\n",
       "      <td>0</td>\n",
       "      <td>0</td>\n",
       "      <td>0</td>\n",
       "      <td>0</td>\n",
       "      <td>0</td>\n",
       "      <td>...</td>\n",
       "      <td>14331</td>\n",
       "      <td>14948</td>\n",
       "      <td>15549</td>\n",
       "      <td>1518</td>\n",
       "      <td>1500</td>\n",
       "      <td>1000</td>\n",
       "      <td>1000</td>\n",
       "      <td>1000</td>\n",
       "      <td>5000</td>\n",
       "      <td>0</td>\n",
       "    </tr>\n",
       "    <tr>\n",
       "      <th>3</th>\n",
       "      <td>50000</td>\n",
       "      <td>2</td>\n",
       "      <td>2</td>\n",
       "      <td>1</td>\n",
       "      <td>37</td>\n",
       "      <td>0</td>\n",
       "      <td>0</td>\n",
       "      <td>0</td>\n",
       "      <td>0</td>\n",
       "      <td>0</td>\n",
       "      <td>...</td>\n",
       "      <td>28314</td>\n",
       "      <td>28959</td>\n",
       "      <td>29547</td>\n",
       "      <td>2000</td>\n",
       "      <td>2019</td>\n",
       "      <td>1200</td>\n",
       "      <td>1100</td>\n",
       "      <td>1069</td>\n",
       "      <td>1000</td>\n",
       "      <td>0</td>\n",
       "    </tr>\n",
       "    <tr>\n",
       "      <th>4</th>\n",
       "      <td>50000</td>\n",
       "      <td>1</td>\n",
       "      <td>2</td>\n",
       "      <td>1</td>\n",
       "      <td>57</td>\n",
       "      <td>-1</td>\n",
       "      <td>0</td>\n",
       "      <td>-1</td>\n",
       "      <td>0</td>\n",
       "      <td>0</td>\n",
       "      <td>...</td>\n",
       "      <td>20940</td>\n",
       "      <td>19146</td>\n",
       "      <td>19131</td>\n",
       "      <td>2000</td>\n",
       "      <td>36681</td>\n",
       "      <td>10000</td>\n",
       "      <td>9000</td>\n",
       "      <td>689</td>\n",
       "      <td>679</td>\n",
       "      <td>0</td>\n",
       "    </tr>\n",
       "    <tr>\n",
       "      <th>...</th>\n",
       "      <td>...</td>\n",
       "      <td>...</td>\n",
       "      <td>...</td>\n",
       "      <td>...</td>\n",
       "      <td>...</td>\n",
       "      <td>...</td>\n",
       "      <td>...</td>\n",
       "      <td>...</td>\n",
       "      <td>...</td>\n",
       "      <td>...</td>\n",
       "      <td>...</td>\n",
       "      <td>...</td>\n",
       "      <td>...</td>\n",
       "      <td>...</td>\n",
       "      <td>...</td>\n",
       "      <td>...</td>\n",
       "      <td>...</td>\n",
       "      <td>...</td>\n",
       "      <td>...</td>\n",
       "      <td>...</td>\n",
       "      <td>...</td>\n",
       "    </tr>\n",
       "    <tr>\n",
       "      <th>29995</th>\n",
       "      <td>220000</td>\n",
       "      <td>1</td>\n",
       "      <td>3</td>\n",
       "      <td>1</td>\n",
       "      <td>39</td>\n",
       "      <td>0</td>\n",
       "      <td>0</td>\n",
       "      <td>0</td>\n",
       "      <td>0</td>\n",
       "      <td>0</td>\n",
       "      <td>...</td>\n",
       "      <td>88004</td>\n",
       "      <td>31237</td>\n",
       "      <td>15980</td>\n",
       "      <td>8500</td>\n",
       "      <td>20000</td>\n",
       "      <td>5003</td>\n",
       "      <td>3047</td>\n",
       "      <td>5000</td>\n",
       "      <td>1000</td>\n",
       "      <td>0</td>\n",
       "    </tr>\n",
       "    <tr>\n",
       "      <th>29996</th>\n",
       "      <td>150000</td>\n",
       "      <td>1</td>\n",
       "      <td>3</td>\n",
       "      <td>2</td>\n",
       "      <td>43</td>\n",
       "      <td>-1</td>\n",
       "      <td>-1</td>\n",
       "      <td>-1</td>\n",
       "      <td>-1</td>\n",
       "      <td>0</td>\n",
       "      <td>...</td>\n",
       "      <td>8979</td>\n",
       "      <td>5190</td>\n",
       "      <td>0</td>\n",
       "      <td>1837</td>\n",
       "      <td>3526</td>\n",
       "      <td>8998</td>\n",
       "      <td>129</td>\n",
       "      <td>0</td>\n",
       "      <td>0</td>\n",
       "      <td>0</td>\n",
       "    </tr>\n",
       "    <tr>\n",
       "      <th>29997</th>\n",
       "      <td>30000</td>\n",
       "      <td>1</td>\n",
       "      <td>2</td>\n",
       "      <td>2</td>\n",
       "      <td>37</td>\n",
       "      <td>4</td>\n",
       "      <td>3</td>\n",
       "      <td>2</td>\n",
       "      <td>-1</td>\n",
       "      <td>0</td>\n",
       "      <td>...</td>\n",
       "      <td>20878</td>\n",
       "      <td>20582</td>\n",
       "      <td>19357</td>\n",
       "      <td>0</td>\n",
       "      <td>0</td>\n",
       "      <td>22000</td>\n",
       "      <td>4200</td>\n",
       "      <td>2000</td>\n",
       "      <td>3100</td>\n",
       "      <td>1</td>\n",
       "    </tr>\n",
       "    <tr>\n",
       "      <th>29998</th>\n",
       "      <td>80000</td>\n",
       "      <td>1</td>\n",
       "      <td>3</td>\n",
       "      <td>1</td>\n",
       "      <td>41</td>\n",
       "      <td>1</td>\n",
       "      <td>-1</td>\n",
       "      <td>0</td>\n",
       "      <td>0</td>\n",
       "      <td>0</td>\n",
       "      <td>...</td>\n",
       "      <td>52774</td>\n",
       "      <td>11855</td>\n",
       "      <td>48944</td>\n",
       "      <td>85900</td>\n",
       "      <td>3409</td>\n",
       "      <td>1178</td>\n",
       "      <td>1926</td>\n",
       "      <td>52964</td>\n",
       "      <td>1804</td>\n",
       "      <td>1</td>\n",
       "    </tr>\n",
       "    <tr>\n",
       "      <th>29999</th>\n",
       "      <td>50000</td>\n",
       "      <td>1</td>\n",
       "      <td>2</td>\n",
       "      <td>1</td>\n",
       "      <td>46</td>\n",
       "      <td>0</td>\n",
       "      <td>0</td>\n",
       "      <td>0</td>\n",
       "      <td>0</td>\n",
       "      <td>0</td>\n",
       "      <td>...</td>\n",
       "      <td>36535</td>\n",
       "      <td>32428</td>\n",
       "      <td>15313</td>\n",
       "      <td>2078</td>\n",
       "      <td>1800</td>\n",
       "      <td>1430</td>\n",
       "      <td>1000</td>\n",
       "      <td>1000</td>\n",
       "      <td>1000</td>\n",
       "      <td>1</td>\n",
       "    </tr>\n",
       "  </tbody>\n",
       "</table>\n",
       "<p>30000 rows × 24 columns</p>\n",
       "</div>"
      ],
      "text/plain": [
       "           X1  X2  X3  X4  X5  X6  X7  X8  X9  X10  ...    X15    X16    X17  \\\n",
       "0       20000   2   2   1  24   2   2  -1  -1   -2  ...      0      0      0   \n",
       "1      120000   2   2   2  26  -1   2   0   0    0  ...   3272   3455   3261   \n",
       "2       90000   2   2   2  34   0   0   0   0    0  ...  14331  14948  15549   \n",
       "3       50000   2   2   1  37   0   0   0   0    0  ...  28314  28959  29547   \n",
       "4       50000   1   2   1  57  -1   0  -1   0    0  ...  20940  19146  19131   \n",
       "...       ...  ..  ..  ..  ..  ..  ..  ..  ..  ...  ...    ...    ...    ...   \n",
       "29995  220000   1   3   1  39   0   0   0   0    0  ...  88004  31237  15980   \n",
       "29996  150000   1   3   2  43  -1  -1  -1  -1    0  ...   8979   5190      0   \n",
       "29997   30000   1   2   2  37   4   3   2  -1    0  ...  20878  20582  19357   \n",
       "29998   80000   1   3   1  41   1  -1   0   0    0  ...  52774  11855  48944   \n",
       "29999   50000   1   2   1  46   0   0   0   0    0  ...  36535  32428  15313   \n",
       "\n",
       "         X18    X19    X20   X21    X22   X23  Y  \n",
       "0          0    689      0     0      0     0  1  \n",
       "1          0   1000   1000  1000      0  2000  1  \n",
       "2       1518   1500   1000  1000   1000  5000  0  \n",
       "3       2000   2019   1200  1100   1069  1000  0  \n",
       "4       2000  36681  10000  9000    689   679  0  \n",
       "...      ...    ...    ...   ...    ...   ... ..  \n",
       "29995   8500  20000   5003  3047   5000  1000  0  \n",
       "29996   1837   3526   8998   129      0     0  0  \n",
       "29997      0      0  22000  4200   2000  3100  1  \n",
       "29998  85900   3409   1178  1926  52964  1804  1  \n",
       "29999   2078   1800   1430  1000   1000  1000  1  \n",
       "\n",
       "[30000 rows x 24 columns]"
      ]
     },
     "execution_count": 2,
     "metadata": {},
     "output_type": "execute_result"
    }
   ],
   "source": [
    "# Loading the data from default_credit.csv file\n",
    "credit_df = pd.read_csv('d:\\documents\\education\\CSULB\\MSIS\\IS670 Bus Intel\\HW 7 112221\\default_credit.csv')\n",
    "\n",
    "# Adding the scaling code before any of the classifiers\n",
    "X_df = credit_df.drop(columns=['Y'])\n",
    "scaleInput = MinMaxScaler()\n",
    "X = scaleInput.fit_transform(X_df)\n",
    "#X = credit_df.drop(columns=['Y'])\n",
    "y = credit_df['Y']\n",
    "\n",
    "#X.rename(columns = {'C[':'CSquare'}, inplace = True) \n",
    "train_X, valid_X, train_y, valid_y = train_test_split(X, y, test_size=0.3, random_state=1)\n",
    "\n",
    "# Verifying the reading of default_credit.csv by printing it out\n",
    "credit_df\n"
   ]
  },
  {
   "cell_type": "markdown",
   "metadata": {},
   "source": [
    "## Decision Tree"
   ]
  },
  {
   "cell_type": "code",
   "execution_count": 3,
   "metadata": {},
   "outputs": [
    {
     "data": {
      "text/plain": [
       "'\\n#_ = tree.plot_tree(classTree, max_depth=4, feature_names=credit_df.columns[:21])\\n#_ = tree.plot_tree(classTree, max_depth=None, feature_names=credit_df.columns[:6], class_names=classTree.classes_)\\n\\n#smallClassTree = DecisionTreeClassifier(max_depth=30, min_samples_split=20, min_impurity_decrease=0.01)\\n#smallClassTree.fit(train_X, train_y)\\n\\n#plotDecisionTree(smallClassTree, feature_names=train_X.columns)\\n'"
      ]
     },
     "execution_count": 3,
     "metadata": {},
     "output_type": "execute_result"
    },
    {
     "data": {
      "image/png": "[encoded data removed]",
      "text/plain": [
       "<Figure size 1800x504 with 1 Axes>"
      ]
     },
     "metadata": {
      "needs_background": "light"
     },
     "output_type": "display_data"
    }
   ],
   "source": [
    "# Remember, plotDecisionTree does not work in VSCode\n",
    "\n",
    "classTree = DecisionTreeClassifier(random_state=0, max_depth=4)\n",
    "classTree.fit(X, y)\n",
    "\n",
    "#print(\"Classes: {}\".format(', '.join(classTree.classes_)))\n",
    "fig = plt.figure(figsize=(25,7))#, constrained_layout=True) # Contrained_layout limited the image size\n",
    "_ = tree.plot_tree(classTree, max_depth=30, feature_names=credit_df.columns[:21], filled=True)\n",
    "# Unfortunately, I do not see any way to adjust sample split or impurity with plot_tree\n",
    "\"\"\"\n",
    "#_ = tree.plot_tree(classTree, max_depth=4, feature_names=credit_df.columns[:21])\n",
    "#_ = tree.plot_tree(classTree, max_depth=None, feature_names=credit_df.columns[:6], class_names=classTree.classes_)\n",
    "\n",
    "#smallClassTree = DecisionTreeClassifier(max_depth=30, min_samples_split=20, min_impurity_decrease=0.01)\n",
    "#smallClassTree.fit(train_X, train_y)\n",
    "\n",
    "#plotDecisionTree(smallClassTree, feature_names=train_X.columns)\n",
    "\"\"\""
   ]
  },
  {
   "cell_type": "code",
   "execution_count": 4,
   "metadata": {},
   "outputs": [
    {
     "name": "stdout",
     "output_type": "stream",
     "text": [
      "Confusion Matrix (Accuracy 0.8243)\n",
      "\n",
      "       Prediction\n",
      "Actual     0     1\n",
      "     0 15555   809\n",
      "     1  2880  1756\n",
      "Confusion Matrix (Accuracy 0.8203)\n",
      "\n",
      "       Prediction\n",
      "Actual    0    1\n",
      "     0 6664  336\n",
      "     1 1281  719\n"
     ]
    }
   ],
   "source": [
    "classificationSummary(train_y, classTree.predict(train_X))\n",
    "classificationSummary(valid_y, classTree.predict(valid_X))"
   ]
  },
  {
   "cell_type": "markdown",
   "metadata": {},
   "source": [
    "## Random Forest"
   ]
  },
  {
   "cell_type": "code",
   "execution_count": 5,
   "metadata": {},
   "outputs": [
    {
     "name": "stdout",
     "output_type": "stream",
     "text": [
      "Confusion Matrix (Accuracy 0.8264)\n",
      "\n",
      "       Prediction\n",
      "Actual     0     1\n",
      "     0 15737   627\n",
      "     1  3019  1617\n",
      "Confusion Matrix (Accuracy 0.8160)\n",
      "\n",
      "       Prediction\n",
      "Actual    0    1\n",
      "     0 6707  293\n",
      "     1 1363  637\n"
     ]
    }
   ],
   "source": [
    "rf = RandomForestClassifier(n_estimators=100,max_depth=6)\n",
    "rf.fit(train_X, train_y)\n",
    "classificationSummary(train_y, rf.predict(train_X))\n",
    "classificationSummary(valid_y, rf.predict(valid_X))"
   ]
  },
  {
   "cell_type": "markdown",
   "metadata": {},
   "source": [
    "## Neural Network"
   ]
  },
  {
   "cell_type": "code",
   "execution_count": 6,
   "metadata": {},
   "outputs": [
    {
     "name": "stdout",
     "output_type": "stream",
     "text": [
      "Confusion Matrix (Accuracy 0.8220)\n",
      "\n",
      "       Prediction\n",
      "Actual     0     1\n",
      "     0 15576   788\n",
      "     1  2950  1686\n",
      "Confusion Matrix (Accuracy 0.8186)\n",
      "\n",
      "       Prediction\n",
      "Actual    0    1\n",
      "     0 6679  321\n",
      "     1 1312  688\n"
     ]
    }
   ],
   "source": [
    "# Use the Multi-Layer Perceptron classifier\n",
    "clf = MLPClassifier(hidden_layer_sizes=(4), activation='logistic', solver='lbfgs', random_state=1, max_iter=1000)\n",
    "clf.fit(train_X, train_y)\n",
    "\n",
    "classificationSummary(train_y, clf.predict(train_X))\n",
    "classificationSummary(valid_y, clf.predict(valid_X))\n"
   ]
  },
  {
   "cell_type": "code",
   "execution_count": 7,
   "metadata": {},
   "outputs": [
    {
     "name": "stdout",
     "output_type": "stream",
     "text": [
      "Intercepts\n",
      "[array([ 8.10665728, -1.12762043,  6.17253501]), array([-0.20729089])]\n",
      "Weights\n",
      "[array([[ 6.83684449e-01, -5.40090992e+00,  1.01310914e+00],\n",
      "       [ 8.87277696e-02, -1.69504702e-01, -1.05749001e-02],\n",
      "       [-1.88522086e-01, -6.65197512e-01, -2.10726632e-01],\n",
      "       [-4.00119525e-01, -9.97869971e-01,  1.88270880e-01],\n",
      "       [-1.08476513e+00, -5.01098847e-01,  6.33213904e-01],\n",
      "       [-2.54124087e+01, -4.01441878e+00, -2.97089849e+00],\n",
      "       [-1.41795321e+00, -1.51606651e+00,  2.24285845e+00],\n",
      "       [ 1.88606501e+00,  3.80697340e+00, -7.40338295e-01],\n",
      "       [ 8.10879032e-01,  1.19717577e+00,  8.11514083e-01],\n",
      "       [ 1.32603838e+00,  2.81471595e+00, -7.34204127e-01],\n",
      "       [ 1.27274148e-02,  2.31797094e+00, -1.26332400e+00],\n",
      "       [-4.67639624e+00, -5.51100280e-01, -1.60566523e+01],\n",
      "       [-4.00481072e+00,  3.55214319e+00, -1.43365001e+01],\n",
      "       [-1.00805209e+00,  9.43390777e-01, -8.54798748e+00],\n",
      "       [-9.73815932e-01,  2.34046785e-01, -1.18078920e+01],\n",
      "       [ 3.30481982e+00, -1.23244600e+00, -1.00216446e+01],\n",
      "       [ 2.89838901e+00,  3.31210431e+00, -5.62780647e+00],\n",
      "       [ 3.89711213e+00, -9.25358800e+00, -1.15145567e+01],\n",
      "       [ 2.48992746e+00, -9.17256614e+00, -6.62862722e+00],\n",
      "       [ 1.96694883e+00, -1.73936859e+00, -7.46341325e+00],\n",
      "       [-8.59555783e-01,  1.07003622e+00, -6.43055851e+00],\n",
      "       [ 7.24889907e-01,  2.05872858e+00, -1.01620044e+01],\n",
      "       [-1.00040823e+00, -2.44683034e+00, -9.72018331e+00]]), array([[-3.3328825 ],\n",
      "       [ 3.15138292],\n",
      "       [11.6462187 ]])]\n"
     ]
    }
   ],
   "source": [
    "#from sklearn.preprocessing import MinMaxScaler # Included with the rest of the import statements above\n",
    "# This code is from page 293 in the textbook.  It may not be required for the homework.\n",
    "\n",
    "classes=sorted(y.unique())\n",
    "\n",
    "cred = MLPClassifier(hidden_layer_sizes=(3), activation='logistic', solver='lbfgs', random_state=1, max_iter=10000)\n",
    "\n",
    "cred.fit(X, y)\n",
    "cred.predict(X)\n",
    "\n",
    "print(\"Intercepts\")\n",
    "print(cred.intercepts_)\n",
    "\n",
    "print(\"Weights\")\n",
    "print(cred.coefs_)\n"
   ]
  },
  {
   "cell_type": "code",
   "execution_count": 8,
   "metadata": {},
   "outputs": [
    {
     "data": {
      "text/html": [
       "<div>\n",
       "<style scoped>\n",
       "    .dataframe tbody tr th:only-of-type {\n",
       "        vertical-align: middle;\n",
       "    }\n",
       "\n",
       "    .dataframe tbody tr th {\n",
       "        vertical-align: top;\n",
       "    }\n",
       "\n",
       "    .dataframe thead th {\n",
       "        text-align: right;\n",
       "    }\n",
       "</style>\n",
       "<table border=\"1\" class=\"dataframe\">\n",
       "  <thead>\n",
       "    <tr style=\"text-align: right;\">\n",
       "      <th></th>\n",
       "      <th>0</th>\n",
       "      <th>1</th>\n",
       "    </tr>\n",
       "  </thead>\n",
       "  <tbody>\n",
       "    <tr>\n",
       "      <th>0</th>\n",
       "      <td>0.315863</td>\n",
       "      <td>0.684137</td>\n",
       "    </tr>\n",
       "    <tr>\n",
       "      <th>1</th>\n",
       "      <td>0.710511</td>\n",
       "      <td>0.289489</td>\n",
       "    </tr>\n",
       "    <tr>\n",
       "      <th>2</th>\n",
       "      <td>0.881396</td>\n",
       "      <td>0.118604</td>\n",
       "    </tr>\n",
       "    <tr>\n",
       "      <th>3</th>\n",
       "      <td>0.847791</td>\n",
       "      <td>0.152209</td>\n",
       "    </tr>\n",
       "    <tr>\n",
       "      <th>4</th>\n",
       "      <td>0.846028</td>\n",
       "      <td>0.153972</td>\n",
       "    </tr>\n",
       "    <tr>\n",
       "      <th>...</th>\n",
       "      <td>...</td>\n",
       "      <td>...</td>\n",
       "    </tr>\n",
       "    <tr>\n",
       "      <th>29995</th>\n",
       "      <td>0.860564</td>\n",
       "      <td>0.139436</td>\n",
       "    </tr>\n",
       "    <tr>\n",
       "      <th>29996</th>\n",
       "      <td>0.858330</td>\n",
       "      <td>0.141670</td>\n",
       "    </tr>\n",
       "    <tr>\n",
       "      <th>29997</th>\n",
       "      <td>0.383730</td>\n",
       "      <td>0.616270</td>\n",
       "    </tr>\n",
       "    <tr>\n",
       "      <th>29998</th>\n",
       "      <td>0.835883</td>\n",
       "      <td>0.164117</td>\n",
       "    </tr>\n",
       "    <tr>\n",
       "      <th>29999</th>\n",
       "      <td>0.833350</td>\n",
       "      <td>0.166650</td>\n",
       "    </tr>\n",
       "  </tbody>\n",
       "</table>\n",
       "<p>30000 rows × 2 columns</p>\n",
       "</div>"
      ],
      "text/plain": [
       "              0         1\n",
       "0      0.315863  0.684137\n",
       "1      0.710511  0.289489\n",
       "2      0.881396  0.118604\n",
       "3      0.847791  0.152209\n",
       "4      0.846028  0.153972\n",
       "...         ...       ...\n",
       "29995  0.860564  0.139436\n",
       "29996  0.858330  0.141670\n",
       "29997  0.383730  0.616270\n",
       "29998  0.835883  0.164117\n",
       "29999  0.833350  0.166650\n",
       "\n",
       "[30000 rows x 2 columns]"
      ]
     },
     "execution_count": 8,
     "metadata": {},
     "output_type": "execute_result"
    }
   ],
   "source": [
    "# Used only to determine what is concatenated to df in the next code cell.\n",
    "pd.DataFrame(cred.predict_proba(X), columns=classes)"
   ]
  },
  {
   "cell_type": "code",
   "execution_count": 9,
   "metadata": {},
   "outputs": [
    {
     "name": "stdout",
     "output_type": "stream",
     "text": [
      "           X1  X2  X3  X4  X5  X6  X7  X8  X9  X10  ...    X17    X18    X19  \\\n",
      "0       20000   2   2   1  24   2   2  -1  -1   -2  ...      0      0    689   \n",
      "1      120000   2   2   2  26  -1   2   0   0    0  ...   3261      0   1000   \n",
      "2       90000   2   2   2  34   0   0   0   0    0  ...  15549   1518   1500   \n",
      "3       50000   2   2   1  37   0   0   0   0    0  ...  29547   2000   2019   \n",
      "4       50000   1   2   1  57  -1   0  -1   0    0  ...  19131   2000  36681   \n",
      "...       ...  ..  ..  ..  ..  ..  ..  ..  ..  ...  ...    ...    ...    ...   \n",
      "29995  220000   1   3   1  39   0   0   0   0    0  ...  15980   8500  20000   \n",
      "29996  150000   1   3   2  43  -1  -1  -1  -1    0  ...      0   1837   3526   \n",
      "29997   30000   1   2   2  37   4   3   2  -1    0  ...  19357      0      0   \n",
      "29998   80000   1   3   1  41   1  -1   0   0    0  ...  48944  85900   3409   \n",
      "29999   50000   1   2   1  46   0   0   0   0    0  ...  15313   2078   1800   \n",
      "\n",
      "         X20   X21    X22   X23  Y         0         1  \n",
      "0          0     0      0     0  1  0.315863  0.684137  \n",
      "1       1000  1000      0  2000  1  0.710511  0.289489  \n",
      "2       1000  1000   1000  5000  0  0.881396  0.118604  \n",
      "3       1200  1100   1069  1000  0  0.847791  0.152209  \n",
      "4      10000  9000    689   679  0  0.846028  0.153972  \n",
      "...      ...   ...    ...   ... ..       ...       ...  \n",
      "29995   5003  3047   5000  1000  0  0.860564  0.139436  \n",
      "29996   8998   129      0     0  0  0.858330  0.141670  \n",
      "29997  22000  4200   2000  3100  1  0.383730  0.616270  \n",
      "29998   1178  1926  52964  1804  1  0.835883  0.164117  \n",
      "29999   1430  1000   1000  1000  1  0.833350  0.166650  \n",
      "\n",
      "[30000 rows x 26 columns]\n"
     ]
    }
   ],
   "source": [
    "# This code is also from page 293 in the textbook.\n",
    "print(pd.concat([credit_df, pd.DataFrame(cred.predict_proba(X), columns=classes)], axis=1))"
   ]
  },
  {
   "cell_type": "code",
   "execution_count": 10,
   "metadata": {},
   "outputs": [
    {
     "name": "stdout",
     "output_type": "stream",
     "text": [
      "Confusion Matrix (Accuracy 0.8197)\n",
      "\n",
      "       Prediction\n",
      "Actual     0     1\n",
      "     0 15560   804\n",
      "     1  2983  1653\n",
      "Confusion Matrix (Accuracy 0.8178)\n",
      "\n",
      "       Prediction\n",
      "Actual    0    1\n",
      "     0 6675  325\n",
      "     1 1315  685\n"
     ]
    }
   ],
   "source": [
    "classificationSummary(train_y, cred.predict(train_X))\n",
    "classificationSummary(valid_y, cred.predict(valid_X))"
   ]
  },
  {
   "cell_type": "markdown",
   "metadata": {},
   "source": [
    "## AdaBoost"
   ]
  },
  {
   "cell_type": "code",
   "execution_count": 11,
   "metadata": {},
   "outputs": [
    {
     "name": "stdout",
     "output_type": "stream",
     "text": [
      "Confusion Matrix (Accuracy 0.8198)\n",
      "\n",
      "       Prediction\n",
      "Actual     0     1\n",
      "     0 15659   705\n",
      "     1  3080  1556\n",
      "Confusion Matrix (Accuracy 0.8150)\n",
      "\n",
      "       Prediction\n",
      "Actual    0    1\n",
      "     0 6704  296\n",
      "     1 1369  631\n"
     ]
    }
   ],
   "source": [
    "\n",
    "bdt = AdaBoostClassifier(DecisionTreeClassifier(max_depth=1),\n",
    "                         n_estimators=100)\n",
    "\n",
    "bdt.fit(train_X, train_y)\n",
    "classificationSummary(train_y, bdt.predict(train_X))\n",
    "classificationSummary(valid_y, bdt.predict(valid_X))\n",
    "\n"
   ]
  },
  {
   "cell_type": "markdown",
   "metadata": {},
   "source": [
    "## XGBoost"
   ]
  },
  {
   "cell_type": "code",
   "execution_count": 12,
   "metadata": {
    "scrolled": true
   },
   "outputs": [
    {
     "name": "stderr",
     "output_type": "stream",
     "text": [
      "C:\\Users\\Owner\\AppData\\Roaming\\Python\\Python39\\site-packages\\xgboost\\sklearn.py:1224: UserWarning: The use of label encoder in XGBClassifier is deprecated and will be removed in a future release. To remove this warning, do the following: 1) Pass option use_label_encoder=False when constructing XGBClassifier object; and 2) Encode your labels (y) as integers starting with 0, i.e. 0, 1, 2, ..., [num_class - 1].\n",
      "  warnings.warn(label_encoder_deprecation_msg, UserWarning)\n"
     ]
    },
    {
     "name": "stdout",
     "output_type": "stream",
     "text": [
      "[17:31:19] WARNING: C:/Users/Administrator/workspace/xgboost-win64_release_1.5.1/src/learner.cc:1115: Starting in XGBoost 1.3.0, the default evaluation metric used with the objective 'binary:logistic' was changed from 'error' to 'logloss'. Explicitly set eval_metric if you'd like to restore the old behavior.\n",
      "Confusion Matrix (Accuracy 0.8878)\n",
      "\n",
      "       Prediction\n",
      "Actual     0     1\n",
      "     0 16036   328\n",
      "     1  2029  2607\n",
      "Confusion Matrix (Accuracy 0.8133)\n",
      "\n",
      "       Prediction\n",
      "Actual    0    1\n",
      "     0 6613  387\n",
      "     1 1293  707\n"
     ]
    }
   ],
   "source": [
    "#pip install xgboost\n",
    "\n",
    "# XGBoost is not from sklearn, so the features nameing convention is differenct. \n",
    "# in our dataset we have a feature name is \"C[\". XGBoost do not aloow that. \n",
    "# We need to rename the feature.\n",
    "\n",
    "\n",
    "from xgboost import XGBClassifier\n",
    "model = XGBClassifier()\n",
    "model.fit(train_X, train_y)\n",
    "classificationSummary(train_y, model.predict(train_X))\n",
    "classificationSummary(valid_y, model.predict(valid_X))\n"
   ]
  },
  {
   "cell_type": "code",
   "execution_count": 13,
   "metadata": {},
   "outputs": [
    {
     "name": "stdout",
     "output_type": "stream",
     "text": [
      "[17:31:20] WARNING: C:/Users/Administrator/workspace/xgboost-win64_release_1.5.1/src/learner.cc:1115: Starting in XGBoost 1.3.0, the default evaluation metric used with the objective 'binary:logistic' was changed from 'error' to 'logloss'. Explicitly set eval_metric if you'd like to restore the old behavior.\n"
     ]
    },
    {
     "name": "stderr",
     "output_type": "stream",
     "text": [
      "C:\\Users\\Owner\\AppData\\Roaming\\Python\\Python39\\site-packages\\xgboost\\sklearn.py:1224: UserWarning: The use of label encoder in XGBClassifier is deprecated and will be removed in a future release. To remove this warning, do the following: 1) Pass option use_label_encoder=False when constructing XGBClassifier object; and 2) Encode your labels (y) as integers starting with 0, i.e. 0, 1, 2, ..., [num_class - 1].\n",
      "  warnings.warn(label_encoder_deprecation_msg, UserWarning)\n"
     ]
    },
    {
     "name": "stdout",
     "output_type": "stream",
     "text": [
      "Confusion Matrix (Accuracy 0.8910)\n",
      "\n",
      "       Prediction\n",
      "Actual     0     1\n",
      "     0 16041   323\n",
      "     1  1967  2669\n",
      "Confusion Matrix (Accuracy 0.8133)\n",
      "\n",
      "       Prediction\n",
      "Actual    0    1\n",
      "     0 6611  389\n",
      "     1 1291  709\n"
     ]
    }
   ],
   "source": [
    "# the above code seems overfitting. let's control it. \n",
    "#by increase the value of gamma\n",
    "# you may further expriment decreast the learning rate etc. OR just do a grid search.\n",
    "\n",
    "model = XGBClassifier(gamma=0.3)\n",
    "model.fit(train_X, train_y)\n",
    "classificationSummary(train_y, model.predict(train_X))\n",
    "classificationSummary(valid_y, model.predict(valid_X))\n"
   ]
  },
  {
   "cell_type": "markdown",
   "metadata": {},
   "source": [
    "## Gradient Boost"
   ]
  },
  {
   "cell_type": "code",
   "execution_count": 14,
   "metadata": {
    "scrolled": false
   },
   "outputs": [
    {
     "name": "stdout",
     "output_type": "stream",
     "text": [
      "Confusion Matrix (Accuracy 0.8279)\n",
      "\n",
      "       Prediction\n",
      "Actual     0     1\n",
      "     0 15604   760\n",
      "     1  2854  1782\n",
      "Confusion Matrix (Accuracy 0.8188)\n",
      "\n",
      "       Prediction\n",
      "Actual    0    1\n",
      "     0 6660  340\n",
      "     1 1291  709\n"
     ]
    }
   ],
   "source": [
    "\n",
    "boost = GradientBoostingClassifier()\n",
    "boost.fit(train_X, train_y)\n",
    "classificationSummary(train_y, boost.predict(train_X))\n",
    "classificationSummary(valid_y, boost.predict(valid_X))\n"
   ]
  },
  {
   "cell_type": "markdown",
   "metadata": {},
   "source": [
    "## knn"
   ]
  },
  {
   "cell_type": "code",
   "execution_count": 15,
   "metadata": {},
   "outputs": [],
   "source": [
    "# This K-nearest neighbor code runs well, but requires more import statements\n",
    "from sklearn.model_selection import GridSearchCV\n",
    "from sklearn.neighbors import KNeighborsClassifier\n",
    "\n",
    "grid_params ={'n_neighbors':[3,5,7,9],\n",
    "              'weights':['uniform','distance']}\n"
   ]
  },
  {
   "cell_type": "code",
   "execution_count": 16,
   "metadata": {},
   "outputs": [
    {
     "name": "stdout",
     "output_type": "stream",
     "text": [
      "{'n_neighbors': 9, 'weights': 'uniform'}\n"
     ]
    }
   ],
   "source": [
    "#################################################################\n",
    "##  THIS CODE TAKES TIME & PROCESSING POWER TO RUN!!           ##\n",
    "##  THIS CODE TEMPORARILY HALTED MUSIC STREAMING AND LOCKED UP ##\n",
    "##  MY KEYBOARD & MOUSE WHILE PROCESSING!!  KRS, 12/12/2021    ##\n",
    "#################################################################\n",
    "gs = GridSearchCV(KNeighborsClassifier(weights='uniform'),grid_params,cv=5,n_jobs=-1,scoring='accuracy')\n",
    "gs.fit(train_X,train_y)\n",
    "print(gs.best_params_)\n",
    "bestKnn= gs.best_estimator_\n"
   ]
  },
  {
   "cell_type": "code",
   "execution_count": 17,
   "metadata": {},
   "outputs": [
    {
     "name": "stdout",
     "output_type": "stream",
     "text": [
      "Confusion Matrix (Accuracy 0.8302)\n",
      "\n",
      "       Prediction\n",
      "Actual     0     1\n",
      "     0 15601   763\n",
      "     1  2803  1833\n",
      "Confusion Matrix (Accuracy 0.8092)\n",
      "\n",
      "       Prediction\n",
      "Actual    0    1\n",
      "     0 6588  412\n",
      "     1 1305  695\n"
     ]
    }
   ],
   "source": [
    "classificationSummary(train_y, bestKnn.predict(train_X))\n",
    "classificationSummary(valid_y, bestKnn.predict(valid_X))"
   ]
  },
  {
   "cell_type": "markdown",
   "metadata": {},
   "source": [
    "## It seems overfitting is a big issue here. "
   ]
  }
 ],
 "metadata": {
  "kernelspec": {
   "display_name": "Python 3",
   "language": "python",
   "name": "python3"
  },
  "language_info": {
   "codemirror_mode": {
    "name": "ipython",
    "version": 3
   },
   "file_extension": ".py",
   "mimetype": "text/x-python",
   "name": "python",
   "nbconvert_exporter": "python",
   "pygments_lexer": "ipython3",
   "version": "3.9.5"
  }
 },
 "nbformat": 4,
 "nbformat_minor": 2
}
